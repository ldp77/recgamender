{
 "cells": [
  {
   "cell_type": "code",
   "execution_count": 2,
   "id": "burning-working",
   "metadata": {},
   "outputs": [],
   "source": [
    "import random\n",
    "import pandas as pd\n",
    "import numpy as np\n",
    "\n",
    "import scipy.sparse as sparse\n",
    "from scipy.sparse.linalg import spsolve\n",
    "import implicit\n",
    "#from sklearn.preprocessing import MinMaxScaler\n",
    "\n",
    "data_df = pd.read_csv(\"./steam-200k.csv\", sep=',', names=[\"UserID\", \"GameID\", \"Action\", \"Behavior\",\"Extra\"])\n",
    "# getting rid of purchased but not played games\n",
    "data_df = data_df.loc[(data_df.Action == \"play\")]\n",
    "\n",
    "# First, generate dictionaries for mapping old id to new id for users and games\n",
    "unique_GameID = data_df['GameID'].unique()\n",
    "unique_UserID = data_df['UserID'].unique()\n",
    "j = 0\n",
    "user_old2new_id_dict = dict()\n",
    "for u in unique_UserID:\n",
    "    user_old2new_id_dict[u] = j #map old id to new id\n",
    "    j += 1\n",
    "j = 0\n",
    "game_old2new_id_dict = dict()\n",
    "for i in unique_GameID:\n",
    "    game_old2new_id_dict[i] = j #map game_name to numeric id\n",
    "    j += 1\n",
    "    \n",
    "# Then, use the generated dictionaries to reindex UserID and GameID in the data_df\n",
    "user_list = data_df['UserID'].values\n",
    "game_list = data_df['GameID'].values\n",
    "for j in range(len(data_df)):\n",
    "    user_list[j] = user_old2new_id_dict[user_list[j]]\n",
    "    game_list[j] = game_old2new_id_dict[game_list[j]]\n",
    "data_df['UserID'] = user_list\n",
    "data_df['GameID'] = game_list\n",
    "#print(data_df.head())\n",
    "\n",
    "# generate train_df with 70% samples and test_df with 30% samples, and there should have no overlap between them.\n",
    "train_index = np.random.random(len(data_df)) <= 0.7\n",
    "train_df = data_df[train_index]\n",
    "test_df = data_df[~train_index]\n",
    "\n",
    "# generate train_mat and test_mat\n",
    "num_user = len(data_df['UserID'].unique())\n",
    "num_game = len(data_df['GameID'].unique())\n",
    "\n",
    "train_mat = sparse.coo_matrix((train_df['Behavior'].values, (train_df['UserID'].values, train_df['GameID'].values)), shape=(num_user, num_game)).astype(float)\n",
    "test_mat = sparse.coo_matrix((test_df['Behavior'].values, (test_df['UserID'].values, test_df['GameID'].values)), shape=(num_user, num_game)).astype(float).toarray()\n"
   ]
  },
  {
   "cell_type": "code",
   "execution_count": 3,
   "id": "important-emperor",
   "metadata": {},
   "outputs": [
    {
     "name": "stderr",
     "output_type": "stream",
     "text": [
      "WARNING:root:Intel MKL BLAS detected. Its highly recommend to set the environment variable 'export MKL_NUM_THREADS=1' to disable its internal multithreading\n"
     ]
    },
    {
     "data": {
      "application/vnd.jupyter.widget-view+json": {
       "model_id": "ee779cde7d444afba74ca148089040cf",
       "version_major": 2,
       "version_minor": 0
      },
      "text/plain": [
       "  0%|          | 0/20 [00:00<?, ?it/s]"
      ]
     },
     "metadata": {},
     "output_type": "display_data"
    }
   ],
   "source": [
    "# Initialize the als model and fit it using the sparse item-user matrix\n",
    "model = implicit.als.AlternatingLeastSquares(factors=20, regularization=0.1, iterations=20)\n",
    "\n",
    "# Calculate the confidence by multiplying it by our alpha value.\n",
    "alpha_val = 15\n",
    "data_conf = (train_mat * alpha_val).astype('double')\n",
    "\n",
    "#Fit the model\n",
    "model.fit(data_conf)\n"
   ]
  },
  {
   "cell_type": "code",
   "execution_count": 4,
   "id": "restricted-villa",
   "metadata": {},
   "outputs": [
    {
     "name": "stdout",
     "output_type": "stream",
     "text": [
      "[(0, 0.9999999), (8053, 0.74098337), (1635, 0.7385016), (4257, 0.7383747), (9966, 0.7174638), (8070, 0.7129957), (11138, 0.6849666), (10120, 0.68157905), (6290, 0.67159104), (3491, 0.6713574)]\n",
      "11350\n"
     ]
    }
   ],
   "source": [
    "# Find the 10 most similar to Jay-Z\n",
    "item_id = 0 #Jay-Z\n",
    "n_similar = 10\n",
    "\n",
    "# Use implicit to get similar items.\n",
    "similar = model.similar_items(item_id, n_similar)\n",
    "\n",
    "\"\"\"# Print the names of our most similar artists\n",
    "for item in similar:\n",
    "    idx, score = item\n",
    "    print(data.artist.loc[data.artist_id == idx].iloc[0])\"\"\"\n",
    "print(similar)\n",
    "print(num_user)\n",
    "\n",
    "\n"
   ]
  },
  {
   "cell_type": "code",
   "execution_count": 20,
   "id": "little-kazakhstan",
   "metadata": {},
   "outputs": [
    {
     "data": {
      "application/vnd.jupyter.widget-view+json": {
       "model_id": "8b95d9a65fb641c8b68dad45d5db84d6",
       "version_major": 2,
       "version_minor": 0
      },
      "text/plain": [
       "  0%|          | 0/20 [00:00<?, ?it/s]"
      ]
     },
     "metadata": {},
     "output_type": "display_data"
    },
    {
     "data": {
      "text/plain": [
       "[(0, 1.0),\n",
       " (501, 0.7116198),\n",
       " (154, 0.6754619),\n",
       " (28, 0.6291469),\n",
       " (341, 0.57538116),\n",
       " (76, 0.5642129),\n",
       " (2155, 0.540547),\n",
       " (4, 0.52737325),\n",
       " (3496, 0.5214334),\n",
       " (485, 0.5196563)]"
      ]
     },
     "execution_count": 20,
     "metadata": {},
     "output_type": "execute_result"
    }
   ],
   "source": [
    "# Create a numeric user_id and artist_id column\n",
    "data_df['UserID'] = data_df['UserID'].astype(\"category\").cat.codes\n",
    "data_df['GameID'] = data_df['GameID'].astype(\"category\").cat.codes\n",
    "\"\"\"data['UserID'] = data['UserID'].cat.codes\n",
    "data['GameID'] = data['GameID'].cat.codes\"\"\"\n",
    "\n",
    "# The implicit library expects data as a item-user matrix so we\n",
    "# create two matricies, one for fitting the model (item-user) \n",
    "# and one for recommendations (user-item)\n",
    "sparse_item_user = sparse.csr_matrix((data_df['Behavior'].astype(float), (data_df['GameID'], data_df['UserID'])))\n",
    "sparse_user_item = sparse.csr_matrix((data_df['Behavior'].astype(float), (data_df['UserID'], data_df['GameID'])))\n",
    "#sparse_item_user = sparse.coo_matrix((data_df['Behavior'].values, (train_df['GameID'].values,train_df['UserID'].values)), shape=(num_game,num_user)).astype(float)\n",
    "#train_mat =        sparse.coo_matrix((train_df['Behavior'].values, (train_df['UserID'].values,train_df['GameID'].values)), shape=(num_user, num_game)).astype(float)\n",
    "\n",
    "# Initialize the als model and fit it using the sparse item-user matrix\n",
    "model = implicit.als.AlternatingLeastSquares(factors=20, regularization=0.1, iterations=20)\n",
    "\n",
    "# Calculate the confidence by multiplying it by our alpha value.\n",
    "alpha_val = 15\n",
    "data_conf = (sparse_item_user * alpha_val).astype('double')\n",
    "\n",
    "#Fit the model\n",
    "model.fit(data_conf)\n",
    "\n",
    "# Find the 10 most similar to Elders Scroll\n",
    "item_id = 0\n",
    "n_similar = 10\n",
    "\n",
    "# Use implicit to get similar items.\n",
    "similar = model.similar_items(item_id, n_similar)\n",
    "similar"
   ]
  },
  {
   "cell_type": "code",
   "execution_count": 21,
   "id": "fuzzy-canon",
   "metadata": {},
   "outputs": [
    {
     "name": "stdout",
     "output_type": "stream",
     "text": [
      "The Elder Scrolls V Skyrim 1.0\n",
      "Arma 3 0.7116198\n",
      "Borderlands 2 0.6754619\n",
      "Sid Meier's Civilization V 0.6291469\n",
      "Terraria 0.57538116\n",
      "DayZ 0.5642129\n",
      "The Amazing Spider-Man 2 0.540547\n",
      "Left 4 Dead 2 0.52737325\n",
      "NASCAR The Game 2013 0.5214334\n",
      "Warframe 0.5196563\n"
     ]
    }
   ],
   "source": [
    "#similar games\n",
    "for idx,score in similar:\n",
    "    print(unique_GameID[idx],score)"
   ]
  },
  {
   "cell_type": "code",
   "execution_count": 7,
   "id": "cordless-virgin",
   "metadata": {},
   "outputs": [
    {
     "name": "stdout",
     "output_type": "stream",
     "text": [
      "Unturned 1.2052162\n",
      "Portal 2 1.0707977\n",
      "Starbound 0.971685\n",
      "Borderlands 2 0.971024\n",
      "Portal 0.9323226\n",
      "PAYDAY 2 0.87397075\n",
      "Besiege 0.87112254\n",
      "Don't Starve 0.8702251\n",
      "Far Cry 3 0.8502069\n",
      "Counter-Strike Global Offensive 0.8435215\n"
     ]
    }
   ],
   "source": [
    "# Create recommendations for user with id 0\n",
    "user_id = 0\n",
    "\n",
    "# Use the implicit recommender.\n",
    "recommended = model.recommend(user_id, sparse_user_item)\n",
    "\n",
    "recommended\n",
    "\n",
    "for idx,score in recommended:\n",
    "    print(unique_GameID[idx],score)"
   ]
  },
  {
   "cell_type": "code",
   "execution_count": 16,
   "id": "perceived-hunter",
   "metadata": {},
   "outputs": [
    {
     "name": "stdout",
     "output_type": "stream",
     "text": [
      "Mortal Kombat Komplete Edition 496\n",
      "Mortal Kombat X 844\n",
      "Mortal Kombat Kollection 977\n",
      "Mortal Online 1301\n",
      "ComaMortuary 2764\n",
      "Larva Mortus 2811\n",
      "Post Mortem 3041\n",
      "Mortal Kombat Legacy II - Ep. 1 Reunited in Macau 3476\n"
     ]
    }
   ],
   "source": [
    "count = 0\n",
    "for game in unique_GameID:\n",
    "    if 'Mort' in game:\n",
    "        print(game,count)\n",
    "    count+= 1"
   ]
  },
  {
   "cell_type": "code",
   "execution_count": 17,
   "id": "thick-affiliate",
   "metadata": {},
   "outputs": [
    {
     "name": "stdout",
     "output_type": "stream",
     "text": [
      "Mortal Kombat Komplete Edition\n"
     ]
    }
   ],
   "source": [
    "print(unique_GameID[496])"
   ]
  },
  {
   "cell_type": "code",
   "execution_count": null,
   "id": "alpine-patent",
   "metadata": {},
   "outputs": [],
   "source": []
  }
 ],
 "metadata": {
  "kernelspec": {
   "display_name": "Python 3",
   "language": "python",
   "name": "python3"
  },
  "language_info": {
   "codemirror_mode": {
    "name": "ipython",
    "version": 3
   },
   "file_extension": ".py",
   "mimetype": "text/x-python",
   "name": "python",
   "nbconvert_exporter": "python",
   "pygments_lexer": "ipython3",
   "version": "3.8.5"
  }
 },
 "nbformat": 4,
 "nbformat_minor": 5
}
